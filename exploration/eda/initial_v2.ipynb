{
 "cells": [
  {
   "cell_type": "markdown",
   "metadata": {},
   "source": [
    "# Import data\n",
    "\n",
    "Keep on working on classification problems.\n",
    "\n",
    "Steps to do: \n",
    "\n",
    "* Transform the non detected waps to small values (100 dBm to -110dBm)\n"
   ]
  },
  {
   "cell_type": "code",
   "execution_count": 83,
   "metadata": {},
   "outputs": [],
   "source": [
    "import pandas as pd"
   ]
  },
  {
   "cell_type": "code",
   "execution_count": 84,
   "metadata": {},
   "outputs": [],
   "source": [
    "data = pd.read_csv('../../data/raw/UJIndoorLoc/trainingData.csv')\n",
    "valid = pd.read_csv('../../data/raw/UJIndoorLoc/validationData.csv')"
   ]
  },
  {
   "cell_type": "code",
   "execution_count": 63,
   "metadata": {
    "jupyter": {
     "source_hidden": true
    }
   },
   "outputs": [],
   "source": [
    "from sklearn.metrics import classification_report\n",
    "from sklearn.metrics import cohen_kappa_score\n",
    "\n",
    "def postResample_class(y_true, y_preds):\n",
    "    \"\"\"\n",
    "    Given a vector with true results and the predictions of the model, \n",
    "    returns the confusion matrix, accuracy, kappa and a report(recall and recap) as a list. \n",
    "    \"\"\"    \n",
    "    # check the metrics with a confusion matrix\n",
    "    confusion_matrix = pd.crosstab(y_true, y_preds, rownames=['Real'], colnames=['Pred'])\n",
    "    print(confusion_matrix)\n",
    "    print('')\n",
    "\n",
    "    # print the accuracy\n",
    "    accuracy = sum(1 for x,y in zip(y_preds, y_true) if x == y) / len(y_true)\n",
    "    print(\"The accuracy of that model is: \", round(accuracy,4))\n",
    "\n",
    "    # kappa \n",
    "    kappa = cohen_kappa_score(y1 = y_true, y2 = y_preds)\n",
    "    print('The kappa of that model is: ', round(kappa,4))\n",
    "    print('')\n",
    "\n",
    "    # recall and recap\n",
    "    report = classification_report(y_true=y_true, y_pred=y_preds) \n",
    "    print(report)\n",
    "    \n",
    "    results = [confusion_matrix, accuracy, kappa, report]\n",
    "    return results\n",
    "\n",
    "\n",
    "###############################################################################################\n",
    "import matplotlib.pyplot as plt\n",
    "import seaborn as sns\n",
    "\n",
    "def plot_errors_building(df, y_true, y_pred):\n",
    "    \"\"\"\n",
    "    Given a dataframe, the true values and the predictions for the building, \n",
    "    return a scatter plot highlighting the errors\n",
    "    \"\"\"\n",
    "    errors = y_true != y_pred\n",
    "    data_plot = pd.DataFrame({\n",
    "        'LONG': df['LONGITUDE'],\n",
    "        'LAT': df['LATITUDE'],\n",
    "        'err': errors\n",
    "    })\n",
    "\n",
    "    sns.scatterplot(x='LONG', y='LAT', hue='err', data=data_plot, \n",
    "                    palette=['lightgrey','red'], x_jitter=True, y_jitter=True)\n",
    "    plt.title('Plotting building errors')\n",
    "    plt.rcParams['figure.figsize'] = [20, 10]\n",
    "    plt.show"
   ]
  },
  {
   "cell_type": "code",
   "execution_count": 85,
   "metadata": {},
   "outputs": [],
   "source": [
    "wap_names = data.iloc[:,:520].columns"
   ]
  },
  {
   "cell_type": "code",
   "execution_count": 76,
   "metadata": {},
   "outputs": [],
   "source": [
    "data[wap_names] = data[wap_names].replace(to_replace=100, value=-105)\n",
    "valid[wap_names] = valid[wap_names].replace(to_replace=100, value=-105)"
   ]
  },
  {
   "cell_type": "markdown",
   "metadata": {},
   "source": [
    "## BUILDINGID: Check the change in performance "
   ]
  },
  {
   "cell_type": "code",
   "execution_count": 77,
   "metadata": {},
   "outputs": [],
   "source": [
    "from sklearn.tree import DecisionTreeClassifier\n",
    "from sklearn.model_selection import train_test_split"
   ]
  },
  {
   "cell_type": "code",
   "execution_count": 87,
   "metadata": {},
   "outputs": [
    {
     "name": "stdout",
     "output_type": "stream",
     "text": [
      "Pred     0     1     2\n",
      "Real                  \n",
      "0     1078     0     0\n",
      "1        0  1001     0\n",
      "2        0    10  1899\n",
      "\n",
      "The accuracy of that model is:  0.9975\n",
      "The kappa of that model is:  0.9961\n",
      "\n",
      "              precision    recall  f1-score   support\n",
      "\n",
      "           0       1.00      1.00      1.00      1078\n",
      "           1       0.99      1.00      1.00      1001\n",
      "           2       1.00      0.99      1.00      1909\n",
      "\n",
      "    accuracy                           1.00      3988\n",
      "   macro avg       1.00      1.00      1.00      3988\n",
      "weighted avg       1.00      1.00      1.00      3988\n",
      "\n",
      "Pred    0    1    2\n",
      "Real               \n",
      "0     534    2    0\n",
      "1       1  304    2\n",
      "2       0    3  265\n",
      "\n",
      "The accuracy of that model is:  0.9928\n",
      "The kappa of that model is:  0.9886\n",
      "\n",
      "              precision    recall  f1-score   support\n",
      "\n",
      "           0       1.00      1.00      1.00       536\n",
      "           1       0.98      0.99      0.99       307\n",
      "           2       0.99      0.99      0.99       268\n",
      "\n",
      "    accuracy                           0.99      1111\n",
      "   macro avg       0.99      0.99      0.99      1111\n",
      "weighted avg       0.99      0.99      0.99      1111\n",
      "\n"
     ]
    }
   ],
   "source": [
    "# train and test\n",
    "train, test = train_test_split(data, train_size=0.80, random_state=42)\n",
    "# tree creation\n",
    "tree = DecisionTreeClassifier()\n",
    "tree.fit(train[wap_names], train['BUILDINGID'])\n",
    "# check the results\n",
    "results = postResample_class(\n",
    "    y_preds=tree.predict(test[wap_names]), y_true=test['BUILDINGID']\n",
    ")\n",
    "# check the results\n",
    "results = postResample_class(\n",
    "    y_preds=tree.predict(valid[wap_names]), y_true=valid['BUILDINGID']\n",
    ")"
   ]
  },
  {
   "cell_type": "code",
   "execution_count": 88,
   "metadata": {},
   "outputs": [
    {
     "name": "stdout",
     "output_type": "stream",
     "text": [
      "Pred     0    1     2\n",
      "Real                 \n",
      "0     1078    0     0\n",
      "1        0  995     6\n",
      "2        0    1  1908\n",
      "\n",
      "The accuracy of that model is:  0.9982\n",
      "The kappa of that model is:  0.9972\n",
      "\n",
      "              precision    recall  f1-score   support\n",
      "\n",
      "           0       1.00      1.00      1.00      1078\n",
      "           1       1.00      0.99      1.00      1001\n",
      "           2       1.00      1.00      1.00      1909\n",
      "\n",
      "    accuracy                           1.00      3988\n",
      "   macro avg       1.00      1.00      1.00      3988\n",
      "weighted avg       1.00      1.00      1.00      3988\n",
      "\n",
      "Pred    0    1    2\n",
      "Real               \n",
      "0     534    0    2\n",
      "1       0  298    9\n",
      "2       0    0  268\n",
      "\n",
      "The accuracy of that model is:  0.9901\n",
      "The kappa of that model is:  0.9844\n",
      "\n",
      "              precision    recall  f1-score   support\n",
      "\n",
      "           0       1.00      1.00      1.00       536\n",
      "           1       1.00      0.97      0.99       307\n",
      "           2       0.96      1.00      0.98       268\n",
      "\n",
      "    accuracy                           0.99      1111\n",
      "   macro avg       0.99      0.99      0.99      1111\n",
      "weighted avg       0.99      0.99      0.99      1111\n",
      "\n"
     ]
    }
   ],
   "source": [
    "from sklearn.neighbors import KNeighborsClassifier\n",
    "\n",
    "# tree creation\n",
    "KNN = KNeighborsClassifier()\n",
    "KNN.fit(train[wap_names], train['BUILDINGID'])\n",
    "# check the results\n",
    "results = postResample_class(\n",
    "    y_preds=KNN.predict(test[wap_names]), y_true=test['BUILDINGID']\n",
    ")\n",
    "# check the results\n",
    "results = postResample_class(\n",
    "    y_preds=KNN.predict(valid[wap_names]), y_true=valid['BUILDINGID']\n",
    ")"
   ]
  },
  {
   "cell_type": "code",
   "execution_count": null,
   "metadata": {},
   "outputs": [],
   "source": []
  }
 ],
 "metadata": {
  "kernelspec": {
   "display_name": "Python 3",
   "language": "python",
   "name": "python3"
  },
  "language_info": {
   "codemirror_mode": {
    "name": "ipython",
    "version": 3
   },
   "file_extension": ".py",
   "mimetype": "text/x-python",
   "name": "python",
   "nbconvert_exporter": "python",
   "pygments_lexer": "ipython3",
   "version": "3.6.9"
  }
 },
 "nbformat": 4,
 "nbformat_minor": 4
}
