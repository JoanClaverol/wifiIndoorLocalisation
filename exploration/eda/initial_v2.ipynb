{
 "cells": [
  {
   "cell_type": "markdown",
   "metadata": {},
   "source": [
    "# Import data\n",
    "\n",
    "Keep on working on classification problems.\n",
    "\n",
    "Steps to do: \n",
    "\n",
    "* Transform the non detected waps to small values (100 dBm to -110dBm)\n"
   ]
  },
  {
   "cell_type": "code",
   "execution_count": 124,
   "metadata": {},
   "outputs": [],
   "source": [
    "import pandas as pd"
   ]
  },
  {
   "cell_type": "code",
   "execution_count": 137,
   "metadata": {},
   "outputs": [],
   "source": [
    "data = pd.read_csv('../../data/raw/UJIndoorLoc/trainingData.csv')\n",
    "valid = pd.read_csv('../../data/raw/UJIndoorLoc/validationData.csv')"
   ]
  },
  {
   "cell_type": "code",
   "execution_count": 138,
   "metadata": {
    "jupyter": {
     "source_hidden": true
    }
   },
   "outputs": [],
   "source": [
    "from sklearn.metrics import classification_report\n",
    "from sklearn.metrics import cohen_kappa_score\n",
    "\n",
    "def postResample_class(y_true, y_preds):\n",
    "    \"\"\"\n",
    "    Given a vector with true results and the predictions of the model, \n",
    "    returns the confusion matrix, accuracy, kappa and a report(recall and recap) as a list. \n",
    "    \"\"\"    \n",
    "    # check the metrics with a confusion matrix\n",
    "    confusion_matrix = pd.crosstab(y_true, y_preds, rownames=['Real'], colnames=['Pred'])\n",
    "    print(confusion_matrix)\n",
    "    print('')\n",
    "\n",
    "    # print the accuracy\n",
    "    accuracy = sum(1 for x,y in zip(y_preds, y_true) if x == y) / len(y_true)\n",
    "    print(\"The accuracy of that model is: \", round(accuracy,4))\n",
    "\n",
    "    # kappa \n",
    "    kappa = cohen_kappa_score(y1 = y_true, y2 = y_preds)\n",
    "    print('The kappa of that model is: ', round(kappa,4))\n",
    "    print('')\n",
    "\n",
    "    # recall and recap\n",
    "    report = classification_report(y_true=y_true, y_pred=y_preds) \n",
    "    print(report)\n",
    "    \n",
    "    results = [confusion_matrix, accuracy, kappa, report]\n",
    "    return results\n",
    "\n",
    "\n",
    "###############################################################################################\n",
    "import matplotlib.pyplot as plt\n",
    "import seaborn as sns\n",
    "\n",
    "def plot_errors_building(df, y_true, y_pred):\n",
    "    \"\"\"\n",
    "    Given a dataframe, the true values and the predictions for the building, \n",
    "    return a scatter plot highlighting the errors\n",
    "    \"\"\"\n",
    "    errors = y_true != y_pred\n",
    "    data_plot = pd.DataFrame({\n",
    "        'LONG': df['LONGITUDE'],\n",
    "        'LAT': df['LATITUDE'],\n",
    "        'err': errors\n",
    "    })\n",
    "\n",
    "    sns.scatterplot(x='LONG', y='LAT', hue='err', data=data_plot, \n",
    "                    palette=['lightgrey','red'], x_jitter=True, y_jitter=True)\n",
    "    plt.title('Plotting building errors')\n",
    "    plt.rcParams['figure.figsize'] = [20, 10]\n",
    "    plt.show"
   ]
  },
  {
   "cell_type": "code",
   "execution_count": 139,
   "metadata": {},
   "outputs": [],
   "source": [
    "wap_names = data.iloc[:,:520].columns"
   ]
  },
  {
   "cell_type": "code",
   "execution_count": 140,
   "metadata": {},
   "outputs": [],
   "source": [
    "data[wap_names] = data[wap_names].replace(to_replace=100, value=-105)\n",
    "valid[wap_names] = valid[wap_names].replace(to_replace=100, value=-105)"
   ]
  },
  {
   "cell_type": "markdown",
   "metadata": {},
   "source": [
    "## BUILDINGID: Check the change in performance "
   ]
  },
  {
   "cell_type": "code",
   "execution_count": 129,
   "metadata": {},
   "outputs": [],
   "source": [
    "from sklearn.model_selection import train_test_split\n",
    "\n",
    "# train and test\n",
    "train, test = train_test_split(data, train_size=0.80, random_state=42)"
   ]
  },
  {
   "cell_type": "code",
   "execution_count": 130,
   "metadata": {},
   "outputs": [
    {
     "name": "stdout",
     "output_type": "stream",
     "text": [
      "Pred     0     1     2\n",
      "Real                  \n",
      "0     1078     0     0\n",
      "1        0  1001     0\n",
      "2        0     8  1901\n",
      "\n",
      "The accuracy of that model is:  0.998\n",
      "The kappa of that model is:  0.9968\n",
      "\n",
      "              precision    recall  f1-score   support\n",
      "\n",
      "           0       1.00      1.00      1.00      1078\n",
      "           1       0.99      1.00      1.00      1001\n",
      "           2       1.00      1.00      1.00      1909\n",
      "\n",
      "    accuracy                           1.00      3988\n",
      "   macro avg       1.00      1.00      1.00      3988\n",
      "weighted avg       1.00      1.00      1.00      3988\n",
      "\n",
      "Pred    0    1    2\n",
      "Real               \n",
      "0     535    1    0\n",
      "1       0  307    0\n",
      "2       0    0  268\n",
      "\n",
      "The accuracy of that model is:  0.9991\n",
      "The kappa of that model is:  0.9986\n",
      "\n",
      "              precision    recall  f1-score   support\n",
      "\n",
      "           0       1.00      1.00      1.00       536\n",
      "           1       1.00      1.00      1.00       307\n",
      "           2       1.00      1.00      1.00       268\n",
      "\n",
      "    accuracy                           1.00      1111\n",
      "   macro avg       1.00      1.00      1.00      1111\n",
      "weighted avg       1.00      1.00      1.00      1111\n",
      "\n"
     ]
    },
    {
     "name": "stderr",
     "output_type": "stream",
     "text": [
      "/home/joan/.local/lib/python3.6/site-packages/sklearn/linear_model/_logistic.py:940: ConvergenceWarning: lbfgs failed to converge (status=1):\n",
      "STOP: TOTAL NO. of ITERATIONS REACHED LIMIT.\n",
      "\n",
      "Increase the number of iterations (max_iter) or scale the data as shown in:\n",
      "    https://scikit-learn.org/stable/modules/preprocessing.html\n",
      "Please also refer to the documentation for alternative solver options:\n",
      "    https://scikit-learn.org/stable/modules/linear_model.html#logistic-regression\n",
      "  extra_warning_msg=_LOGISTIC_SOLVER_CONVERGENCE_MSG)\n"
     ]
    }
   ],
   "source": [
    "from sklearn.linear_model import LogisticRegression\n",
    "# tree creation\n",
    "log_reg = LogisticRegression()\n",
    "log_reg.fit(train[wap_names], train['BUILDINGID'])\n",
    "# check the results\n",
    "results = postResample_class(\n",
    "    y_preds=log_reg.predict(test[wap_names]), y_true=test['BUILDINGID']\n",
    ")\n",
    "# check the results\n",
    "results = postResample_class(\n",
    "    y_preds=log_reg.predict(valid[wap_names]), y_true=valid['BUILDINGID']\n",
    ")"
   ]
  },
  {
   "cell_type": "code",
   "execution_count": 114,
   "metadata": {},
   "outputs": [
    {
     "name": "stdout",
     "output_type": "stream",
     "text": [
      "Pred     0     1     2\n",
      "Real                  \n",
      "0     1078     0     0\n",
      "1        0  1000     1\n",
      "2        0    11  1898\n",
      "\n",
      "The accuracy of that model is:  0.997\n",
      "The kappa of that model is:  0.9953\n",
      "\n",
      "              precision    recall  f1-score   support\n",
      "\n",
      "           0       1.00      1.00      1.00      1078\n",
      "           1       0.99      1.00      0.99      1001\n",
      "           2       1.00      0.99      1.00      1909\n",
      "\n",
      "    accuracy                           1.00      3988\n",
      "   macro avg       1.00      1.00      1.00      3988\n",
      "weighted avg       1.00      1.00      1.00      3988\n",
      "\n",
      "Pred    0    1    2\n",
      "Real               \n",
      "0     534    2    0\n",
      "1       0  304    3\n",
      "2       0    9  259\n",
      "\n",
      "The accuracy of that model is:  0.9874\n",
      "The kappa of that model is:  0.9801\n",
      "\n",
      "              precision    recall  f1-score   support\n",
      "\n",
      "           0       1.00      1.00      1.00       536\n",
      "           1       0.97      0.99      0.98       307\n",
      "           2       0.99      0.97      0.98       268\n",
      "\n",
      "    accuracy                           0.99      1111\n",
      "   macro avg       0.98      0.98      0.98      1111\n",
      "weighted avg       0.99      0.99      0.99      1111\n",
      "\n"
     ]
    }
   ],
   "source": [
    "from sklearn.tree import DecisionTreeClassifier\n",
    "# tree creation\n",
    "tree = DecisionTreeClassifier()\n",
    "tree.fit(train[wap_names], train['BUILDINGID'])\n",
    "# check the results\n",
    "results = postResample_class(\n",
    "    y_preds=tree.predict(test[wap_names]), y_true=test['BUILDINGID']\n",
    ")\n",
    "# check the results\n",
    "results = postResample_class(\n",
    "    y_preds=tree.predict(valid[wap_names]), y_true=valid['BUILDINGID']\n",
    ")"
   ]
  },
  {
   "cell_type": "code",
   "execution_count": 88,
   "metadata": {},
   "outputs": [
    {
     "name": "stdout",
     "output_type": "stream",
     "text": [
      "Pred     0    1     2\n",
      "Real                 \n",
      "0     1078    0     0\n",
      "1        0  995     6\n",
      "2        0    1  1908\n",
      "\n",
      "The accuracy of that model is:  0.9982\n",
      "The kappa of that model is:  0.9972\n",
      "\n",
      "              precision    recall  f1-score   support\n",
      "\n",
      "           0       1.00      1.00      1.00      1078\n",
      "           1       1.00      0.99      1.00      1001\n",
      "           2       1.00      1.00      1.00      1909\n",
      "\n",
      "    accuracy                           1.00      3988\n",
      "   macro avg       1.00      1.00      1.00      3988\n",
      "weighted avg       1.00      1.00      1.00      3988\n",
      "\n",
      "Pred    0    1    2\n",
      "Real               \n",
      "0     534    0    2\n",
      "1       0  298    9\n",
      "2       0    0  268\n",
      "\n",
      "The accuracy of that model is:  0.9901\n",
      "The kappa of that model is:  0.9844\n",
      "\n",
      "              precision    recall  f1-score   support\n",
      "\n",
      "           0       1.00      1.00      1.00       536\n",
      "           1       1.00      0.97      0.99       307\n",
      "           2       0.96      1.00      0.98       268\n",
      "\n",
      "    accuracy                           0.99      1111\n",
      "   macro avg       0.99      0.99      0.99      1111\n",
      "weighted avg       0.99      0.99      0.99      1111\n",
      "\n"
     ]
    }
   ],
   "source": [
    "from sklearn.neighbors import KNeighborsClassifier\n",
    "\n",
    "# tree creation\n",
    "KNN = KNeighborsClassifier()\n",
    "KNN.fit(train[wap_names], train['BUILDINGID'])\n",
    "# check the results\n",
    "results = postResample_class(\n",
    "    y_preds=KNN.predict(test[wap_names]), y_true=test['BUILDINGID']\n",
    ")\n",
    "# check the results\n",
    "results = postResample_class(\n",
    "    y_preds=KNN.predict(valid[wap_names]), y_true=valid['BUILDINGID']\n",
    ")"
   ]
  },
  {
   "cell_type": "markdown",
   "metadata": {},
   "source": [
    "## FLOOR"
   ]
  },
  {
   "cell_type": "code",
   "execution_count": 141,
   "metadata": {},
   "outputs": [],
   "source": [
    "# train and test\n",
    "train, test = train_test_split(data, train_size=0.80, random_state=42)"
   ]
  },
  {
   "cell_type": "code",
   "execution_count": 142,
   "metadata": {},
   "outputs": [
    {
     "name": "stdout",
     "output_type": "stream",
     "text": [
      "Pred    0    1    2    3    4\n",
      "Real                         \n",
      "0     850   20    8    8    0\n",
      "1       6  994   10    0    0\n",
      "2       3    7  862   10    0\n",
      "3       0    1   15  978    4\n",
      "4       0    0    0    6  206\n",
      "\n",
      "The accuracy of that model is:  0.9754\n",
      "The kappa of that model is:  0.9682\n",
      "\n",
      "              precision    recall  f1-score   support\n",
      "\n",
      "           0       0.99      0.96      0.97       886\n",
      "           1       0.97      0.98      0.98      1010\n",
      "           2       0.96      0.98      0.97       882\n",
      "           3       0.98      0.98      0.98       998\n",
      "           4       0.98      0.97      0.98       212\n",
      "\n",
      "    accuracy                           0.98      3988\n",
      "   macro avg       0.98      0.97      0.98      3988\n",
      "weighted avg       0.98      0.98      0.98      3988\n",
      "\n",
      "Pred    0    1    2    3   4\n",
      "Real                        \n",
      "0     124    7    1    0   0\n",
      "1      22  405   35    0   0\n",
      "2       1    7  281   16   1\n",
      "3       0    0    6  163   3\n",
      "4       1    0    0    9  29\n",
      "\n",
      "The accuracy of that model is:  0.9019\n",
      "The kappa of that model is:  0.8637\n",
      "\n",
      "              precision    recall  f1-score   support\n",
      "\n",
      "           0       0.84      0.94      0.89       132\n",
      "           1       0.97      0.88      0.92       462\n",
      "           2       0.87      0.92      0.89       306\n",
      "           3       0.87      0.95      0.91       172\n",
      "           4       0.88      0.74      0.81        39\n",
      "\n",
      "    accuracy                           0.90      1111\n",
      "   macro avg       0.88      0.89      0.88      1111\n",
      "weighted avg       0.91      0.90      0.90      1111\n",
      "\n"
     ]
    },
    {
     "name": "stderr",
     "output_type": "stream",
     "text": [
      "/home/joan/.local/lib/python3.6/site-packages/sklearn/linear_model/_logistic.py:940: ConvergenceWarning: lbfgs failed to converge (status=1):\n",
      "STOP: TOTAL NO. of ITERATIONS REACHED LIMIT.\n",
      "\n",
      "Increase the number of iterations (max_iter) or scale the data as shown in:\n",
      "    https://scikit-learn.org/stable/modules/preprocessing.html\n",
      "Please also refer to the documentation for alternative solver options:\n",
      "    https://scikit-learn.org/stable/modules/linear_model.html#logistic-regression\n",
      "  extra_warning_msg=_LOGISTIC_SOLVER_CONVERGENCE_MSG)\n"
     ]
    }
   ],
   "source": [
    "# tree creation\n",
    "log_reg = LogisticRegression()\n",
    "log_reg.fit(train[wap_names], train['FLOOR'])\n",
    "# check the results\n",
    "results = postResample_class(\n",
    "    y_preds=log_reg.predict(test[wap_names]), y_true=test['FLOOR']\n",
    ")\n",
    "# check the results\n",
    "results = postResample_class(\n",
    "    y_preds=log_reg.predict(valid[wap_names]), y_true=valid['FLOOR']\n",
    ")"
   ]
  },
  {
   "cell_type": "code",
   "execution_count": 104,
   "metadata": {},
   "outputs": [
    {
     "name": "stdout",
     "output_type": "stream",
     "text": [
      "Pred    0    1    2    3    4\n",
      "Real                         \n",
      "0     850   22    2   11    1\n",
      "1      26  936   36   12    0\n",
      "2       6   27  820   29    0\n",
      "3       3    9   27  958    1\n",
      "4       0    0    0    7  205\n",
      "\n",
      "The accuracy of that model is:  0.9451\n",
      "The kappa of that model is:  0.9289\n",
      "\n",
      "              precision    recall  f1-score   support\n",
      "\n",
      "           0       0.96      0.96      0.96       886\n",
      "           1       0.94      0.93      0.93      1010\n",
      "           2       0.93      0.93      0.93       882\n",
      "           3       0.94      0.96      0.95       998\n",
      "           4       0.99      0.97      0.98       212\n",
      "\n",
      "    accuracy                           0.95      3988\n",
      "   macro avg       0.95      0.95      0.95      3988\n",
      "weighted avg       0.95      0.95      0.95      3988\n",
      "\n",
      "Pred    0    1    2    3   4\n",
      "Real                        \n",
      "0     109   13   10    0   0\n",
      "1      51  306   88   17   0\n",
      "2       6   23  209   68   0\n",
      "3       0    3   30  135   4\n",
      "4       1    0    2   25  11\n",
      "\n",
      "The accuracy of that model is:  0.6931\n",
      "The kappa of that model is:  0.582\n",
      "\n",
      "              precision    recall  f1-score   support\n",
      "\n",
      "           0       0.65      0.83      0.73       132\n",
      "           1       0.89      0.66      0.76       462\n",
      "           2       0.62      0.68      0.65       306\n",
      "           3       0.55      0.78      0.65       172\n",
      "           4       0.73      0.28      0.41        39\n",
      "\n",
      "    accuracy                           0.69      1111\n",
      "   macro avg       0.69      0.65      0.64      1111\n",
      "weighted avg       0.73      0.69      0.70      1111\n",
      "\n"
     ]
    }
   ],
   "source": [
    "# tree creation\n",
    "tree = DecisionTreeClassifier()\n",
    "tree.fit(train[wap_names], train['FLOOR'])\n",
    "# check the results\n",
    "results = postResample_class(\n",
    "    y_preds=tree.predict(test[wap_names]), y_true=test['FLOOR']\n",
    ")\n",
    "# check the results\n",
    "results = postResample_class(\n",
    "    y_preds=tree.predict(valid[wap_names]), y_true=valid['FLOOR']\n",
    ")"
   ]
  },
  {
   "cell_type": "code",
   "execution_count": 106,
   "metadata": {},
   "outputs": [
    {
     "name": "stdout",
     "output_type": "stream",
     "text": [
      "Pred    0    1    2    3    4\n",
      "Real                         \n",
      "0     883    3    0    0    0\n",
      "1      45  958    7    0    0\n",
      "2       3   17  831   31    0\n",
      "3       6    1    8  980    3\n",
      "4       0    0    0    0  212\n",
      "\n",
      "The accuracy of that model is:  0.9689\n",
      "The kappa of that model is:  0.9597\n",
      "\n",
      "              precision    recall  f1-score   support\n",
      "\n",
      "           0       0.94      1.00      0.97       886\n",
      "           1       0.98      0.95      0.96      1010\n",
      "           2       0.98      0.94      0.96       882\n",
      "           3       0.97      0.98      0.98       998\n",
      "           4       0.99      1.00      0.99       212\n",
      "\n",
      "    accuracy                           0.97      3988\n",
      "   macro avg       0.97      0.97      0.97      3988\n",
      "weighted avg       0.97      0.97      0.97      3988\n",
      "\n",
      "Pred    0    1    2    3   4\n",
      "Real                        \n",
      "0     116    9    6    1   0\n",
      "1      80  318   63    1   0\n",
      "2      12   17  192   85   0\n",
      "3       3    0   13  155   1\n",
      "4       7    0    0    9  23\n",
      "\n",
      "The accuracy of that model is:  0.7237\n",
      "The kappa of that model is:  0.6287\n",
      "\n",
      "              precision    recall  f1-score   support\n",
      "\n",
      "           0       0.53      0.88      0.66       132\n",
      "           1       0.92      0.69      0.79       462\n",
      "           2       0.70      0.63      0.66       306\n",
      "           3       0.62      0.90      0.73       172\n",
      "           4       0.96      0.59      0.73        39\n",
      "\n",
      "    accuracy                           0.72      1111\n",
      "   macro avg       0.75      0.74      0.72      1111\n",
      "weighted avg       0.77      0.72      0.73      1111\n",
      "\n"
     ]
    }
   ],
   "source": [
    "# tree creation\n",
    "KNN = KNeighborsClassifier()\n",
    "KNN.fit(train[wap_names], train['FLOOR'])\n",
    "# check the results\n",
    "results = postResample_class(\n",
    "    y_preds=KNN.predict(test[wap_names]), y_true=test['FLOOR']\n",
    ")\n",
    "# check the results\n",
    "results = postResample_class(\n",
    "    y_preds=KNN.predict(valid[wap_names]), y_true=valid['FLOOR']\n",
    ")"
   ]
  }
 ],
 "metadata": {
  "kernelspec": {
   "display_name": "Python 3",
   "language": "python",
   "name": "python3"
  },
  "language_info": {
   "codemirror_mode": {
    "name": "ipython",
    "version": 3
   },
   "file_extension": ".py",
   "mimetype": "text/x-python",
   "name": "python",
   "nbconvert_exporter": "python",
   "pygments_lexer": "ipython3",
   "version": "3.6.9"
  }
 },
 "nbformat": 4,
 "nbformat_minor": 4
}
