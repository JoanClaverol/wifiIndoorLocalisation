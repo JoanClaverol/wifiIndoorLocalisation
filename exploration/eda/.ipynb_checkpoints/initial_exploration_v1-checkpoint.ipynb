{
 "cells": [
  {
   "cell_type": "markdown",
   "metadata": {},
   "source": [
    "## Load and play"
   ]
  },
  {
   "cell_type": "code",
   "execution_count": 1,
   "metadata": {},
   "outputs": [],
   "source": [
    "import pandas as pd"
   ]
  },
  {
   "cell_type": "code",
   "execution_count": 2,
   "metadata": {},
   "outputs": [],
   "source": [
    "train = pd.read_csv('../../data/raw/UJIndoorLoc/trainingData.csv')\n",
    "valid = pd.read_csv('../../data/raw/UJIndoorLoc/validationData.csv')"
   ]
  },
  {
   "cell_type": "code",
   "execution_count": 3,
   "metadata": {},
   "outputs": [
    {
     "data": {
      "text/html": [
       "<div>\n",
       "<style scoped>\n",
       "    .dataframe tbody tr th:only-of-type {\n",
       "        vertical-align: middle;\n",
       "    }\n",
       "\n",
       "    .dataframe tbody tr th {\n",
       "        vertical-align: top;\n",
       "    }\n",
       "\n",
       "    .dataframe thead th {\n",
       "        text-align: right;\n",
       "    }\n",
       "</style>\n",
       "<table border=\"1\" class=\"dataframe\">\n",
       "  <thead>\n",
       "    <tr style=\"text-align: right;\">\n",
       "      <th></th>\n",
       "      <th>WAP001</th>\n",
       "      <th>WAP002</th>\n",
       "      <th>WAP003</th>\n",
       "      <th>WAP004</th>\n",
       "      <th>WAP005</th>\n",
       "      <th>WAP006</th>\n",
       "      <th>WAP007</th>\n",
       "      <th>WAP008</th>\n",
       "      <th>WAP009</th>\n",
       "      <th>WAP010</th>\n",
       "      <th>...</th>\n",
       "      <th>WAP520</th>\n",
       "      <th>LONGITUDE</th>\n",
       "      <th>LATITUDE</th>\n",
       "      <th>FLOOR</th>\n",
       "      <th>BUILDINGID</th>\n",
       "      <th>SPACEID</th>\n",
       "      <th>RELATIVEPOSITION</th>\n",
       "      <th>USERID</th>\n",
       "      <th>PHONEID</th>\n",
       "      <th>TIMESTAMP</th>\n",
       "    </tr>\n",
       "  </thead>\n",
       "  <tbody>\n",
       "    <tr>\n",
       "      <th>count</th>\n",
       "      <td>19937.000000</td>\n",
       "      <td>19937.000000</td>\n",
       "      <td>19937.0</td>\n",
       "      <td>19937.0</td>\n",
       "      <td>19937.000000</td>\n",
       "      <td>19937.000000</td>\n",
       "      <td>19937.000000</td>\n",
       "      <td>19937.000000</td>\n",
       "      <td>19937.000000</td>\n",
       "      <td>19937.000000</td>\n",
       "      <td>...</td>\n",
       "      <td>19937.0</td>\n",
       "      <td>19937.000000</td>\n",
       "      <td>1.993700e+04</td>\n",
       "      <td>19937.000000</td>\n",
       "      <td>19937.000000</td>\n",
       "      <td>19937.000000</td>\n",
       "      <td>19937.000000</td>\n",
       "      <td>19937.000000</td>\n",
       "      <td>19937.000000</td>\n",
       "      <td>1.993700e+04</td>\n",
       "    </tr>\n",
       "    <tr>\n",
       "      <th>mean</th>\n",
       "      <td>99.823644</td>\n",
       "      <td>99.820936</td>\n",
       "      <td>100.0</td>\n",
       "      <td>100.0</td>\n",
       "      <td>99.613733</td>\n",
       "      <td>97.130461</td>\n",
       "      <td>94.733661</td>\n",
       "      <td>93.820234</td>\n",
       "      <td>94.693936</td>\n",
       "      <td>99.163766</td>\n",
       "      <td>...</td>\n",
       "      <td>100.0</td>\n",
       "      <td>-7464.275947</td>\n",
       "      <td>4.864871e+06</td>\n",
       "      <td>1.674575</td>\n",
       "      <td>1.212820</td>\n",
       "      <td>148.429954</td>\n",
       "      <td>1.833024</td>\n",
       "      <td>9.068014</td>\n",
       "      <td>13.021869</td>\n",
       "      <td>1.371421e+09</td>\n",
       "    </tr>\n",
       "    <tr>\n",
       "      <th>std</th>\n",
       "      <td>5.866842</td>\n",
       "      <td>5.798156</td>\n",
       "      <td>0.0</td>\n",
       "      <td>0.0</td>\n",
       "      <td>8.615657</td>\n",
       "      <td>22.931890</td>\n",
       "      <td>30.541335</td>\n",
       "      <td>33.010404</td>\n",
       "      <td>30.305084</td>\n",
       "      <td>12.634045</td>\n",
       "      <td>...</td>\n",
       "      <td>0.0</td>\n",
       "      <td>123.402010</td>\n",
       "      <td>6.693318e+01</td>\n",
       "      <td>1.223078</td>\n",
       "      <td>0.833139</td>\n",
       "      <td>58.342106</td>\n",
       "      <td>0.372964</td>\n",
       "      <td>4.988720</td>\n",
       "      <td>5.362410</td>\n",
       "      <td>5.572054e+05</td>\n",
       "    </tr>\n",
       "    <tr>\n",
       "      <th>min</th>\n",
       "      <td>-97.000000</td>\n",
       "      <td>-90.000000</td>\n",
       "      <td>100.0</td>\n",
       "      <td>100.0</td>\n",
       "      <td>-97.000000</td>\n",
       "      <td>-98.000000</td>\n",
       "      <td>-99.000000</td>\n",
       "      <td>-98.000000</td>\n",
       "      <td>-98.000000</td>\n",
       "      <td>-99.000000</td>\n",
       "      <td>...</td>\n",
       "      <td>100.0</td>\n",
       "      <td>-7691.338400</td>\n",
       "      <td>4.864746e+06</td>\n",
       "      <td>0.000000</td>\n",
       "      <td>0.000000</td>\n",
       "      <td>1.000000</td>\n",
       "      <td>1.000000</td>\n",
       "      <td>1.000000</td>\n",
       "      <td>1.000000</td>\n",
       "      <td>1.369909e+09</td>\n",
       "    </tr>\n",
       "    <tr>\n",
       "      <th>25%</th>\n",
       "      <td>100.000000</td>\n",
       "      <td>100.000000</td>\n",
       "      <td>100.0</td>\n",
       "      <td>100.0</td>\n",
       "      <td>100.000000</td>\n",
       "      <td>100.000000</td>\n",
       "      <td>100.000000</td>\n",
       "      <td>100.000000</td>\n",
       "      <td>100.000000</td>\n",
       "      <td>100.000000</td>\n",
       "      <td>...</td>\n",
       "      <td>100.0</td>\n",
       "      <td>-7594.737000</td>\n",
       "      <td>4.864821e+06</td>\n",
       "      <td>1.000000</td>\n",
       "      <td>0.000000</td>\n",
       "      <td>110.000000</td>\n",
       "      <td>2.000000</td>\n",
       "      <td>5.000000</td>\n",
       "      <td>8.000000</td>\n",
       "      <td>1.371056e+09</td>\n",
       "    </tr>\n",
       "    <tr>\n",
       "      <th>50%</th>\n",
       "      <td>100.000000</td>\n",
       "      <td>100.000000</td>\n",
       "      <td>100.0</td>\n",
       "      <td>100.0</td>\n",
       "      <td>100.000000</td>\n",
       "      <td>100.000000</td>\n",
       "      <td>100.000000</td>\n",
       "      <td>100.000000</td>\n",
       "      <td>100.000000</td>\n",
       "      <td>100.000000</td>\n",
       "      <td>...</td>\n",
       "      <td>100.0</td>\n",
       "      <td>-7423.060900</td>\n",
       "      <td>4.864852e+06</td>\n",
       "      <td>2.000000</td>\n",
       "      <td>1.000000</td>\n",
       "      <td>129.000000</td>\n",
       "      <td>2.000000</td>\n",
       "      <td>11.000000</td>\n",
       "      <td>13.000000</td>\n",
       "      <td>1.371716e+09</td>\n",
       "    </tr>\n",
       "    <tr>\n",
       "      <th>75%</th>\n",
       "      <td>100.000000</td>\n",
       "      <td>100.000000</td>\n",
       "      <td>100.0</td>\n",
       "      <td>100.0</td>\n",
       "      <td>100.000000</td>\n",
       "      <td>100.000000</td>\n",
       "      <td>100.000000</td>\n",
       "      <td>100.000000</td>\n",
       "      <td>100.000000</td>\n",
       "      <td>100.000000</td>\n",
       "      <td>...</td>\n",
       "      <td>100.0</td>\n",
       "      <td>-7359.193000</td>\n",
       "      <td>4.864930e+06</td>\n",
       "      <td>3.000000</td>\n",
       "      <td>2.000000</td>\n",
       "      <td>207.000000</td>\n",
       "      <td>2.000000</td>\n",
       "      <td>13.000000</td>\n",
       "      <td>14.000000</td>\n",
       "      <td>1.371721e+09</td>\n",
       "    </tr>\n",
       "    <tr>\n",
       "      <th>max</th>\n",
       "      <td>100.000000</td>\n",
       "      <td>100.000000</td>\n",
       "      <td>100.0</td>\n",
       "      <td>100.0</td>\n",
       "      <td>100.000000</td>\n",
       "      <td>100.000000</td>\n",
       "      <td>100.000000</td>\n",
       "      <td>100.000000</td>\n",
       "      <td>100.000000</td>\n",
       "      <td>100.000000</td>\n",
       "      <td>...</td>\n",
       "      <td>100.0</td>\n",
       "      <td>-7300.818990</td>\n",
       "      <td>4.865017e+06</td>\n",
       "      <td>4.000000</td>\n",
       "      <td>2.000000</td>\n",
       "      <td>254.000000</td>\n",
       "      <td>2.000000</td>\n",
       "      <td>18.000000</td>\n",
       "      <td>24.000000</td>\n",
       "      <td>1.371738e+09</td>\n",
       "    </tr>\n",
       "  </tbody>\n",
       "</table>\n",
       "<p>8 rows × 529 columns</p>\n",
       "</div>"
      ],
      "text/plain": [
       "             WAP001        WAP002   WAP003   WAP004        WAP005  \\\n",
       "count  19937.000000  19937.000000  19937.0  19937.0  19937.000000   \n",
       "mean      99.823644     99.820936    100.0    100.0     99.613733   \n",
       "std        5.866842      5.798156      0.0      0.0      8.615657   \n",
       "min      -97.000000    -90.000000    100.0    100.0    -97.000000   \n",
       "25%      100.000000    100.000000    100.0    100.0    100.000000   \n",
       "50%      100.000000    100.000000    100.0    100.0    100.000000   \n",
       "75%      100.000000    100.000000    100.0    100.0    100.000000   \n",
       "max      100.000000    100.000000    100.0    100.0    100.000000   \n",
       "\n",
       "             WAP006        WAP007        WAP008        WAP009        WAP010  \\\n",
       "count  19937.000000  19937.000000  19937.000000  19937.000000  19937.000000   \n",
       "mean      97.130461     94.733661     93.820234     94.693936     99.163766   \n",
       "std       22.931890     30.541335     33.010404     30.305084     12.634045   \n",
       "min      -98.000000    -99.000000    -98.000000    -98.000000    -99.000000   \n",
       "25%      100.000000    100.000000    100.000000    100.000000    100.000000   \n",
       "50%      100.000000    100.000000    100.000000    100.000000    100.000000   \n",
       "75%      100.000000    100.000000    100.000000    100.000000    100.000000   \n",
       "max      100.000000    100.000000    100.000000    100.000000    100.000000   \n",
       "\n",
       "       ...   WAP520     LONGITUDE      LATITUDE         FLOOR    BUILDINGID  \\\n",
       "count  ...  19937.0  19937.000000  1.993700e+04  19937.000000  19937.000000   \n",
       "mean   ...    100.0  -7464.275947  4.864871e+06      1.674575      1.212820   \n",
       "std    ...      0.0    123.402010  6.693318e+01      1.223078      0.833139   \n",
       "min    ...    100.0  -7691.338400  4.864746e+06      0.000000      0.000000   \n",
       "25%    ...    100.0  -7594.737000  4.864821e+06      1.000000      0.000000   \n",
       "50%    ...    100.0  -7423.060900  4.864852e+06      2.000000      1.000000   \n",
       "75%    ...    100.0  -7359.193000  4.864930e+06      3.000000      2.000000   \n",
       "max    ...    100.0  -7300.818990  4.865017e+06      4.000000      2.000000   \n",
       "\n",
       "            SPACEID  RELATIVEPOSITION        USERID       PHONEID  \\\n",
       "count  19937.000000      19937.000000  19937.000000  19937.000000   \n",
       "mean     148.429954          1.833024      9.068014     13.021869   \n",
       "std       58.342106          0.372964      4.988720      5.362410   \n",
       "min        1.000000          1.000000      1.000000      1.000000   \n",
       "25%      110.000000          2.000000      5.000000      8.000000   \n",
       "50%      129.000000          2.000000     11.000000     13.000000   \n",
       "75%      207.000000          2.000000     13.000000     14.000000   \n",
       "max      254.000000          2.000000     18.000000     24.000000   \n",
       "\n",
       "          TIMESTAMP  \n",
       "count  1.993700e+04  \n",
       "mean   1.371421e+09  \n",
       "std    5.572054e+05  \n",
       "min    1.369909e+09  \n",
       "25%    1.371056e+09  \n",
       "50%    1.371716e+09  \n",
       "75%    1.371721e+09  \n",
       "max    1.371738e+09  \n",
       "\n",
       "[8 rows x 529 columns]"
      ]
     },
     "execution_count": 3,
     "metadata": {},
     "output_type": "execute_result"
    }
   ],
   "source": [
    "train.describe()"
   ]
  },
  {
   "cell_type": "code",
   "execution_count": 4,
   "metadata": {},
   "outputs": [
    {
     "name": "stdout",
     "output_type": "stream",
     "text": [
      "<class 'pandas.core.frame.DataFrame'>\n",
      "RangeIndex: 19937 entries, 0 to 19936\n",
      "Columns: 529 entries, WAP001 to TIMESTAMP\n",
      "dtypes: float64(2), int64(527)\n",
      "memory usage: 80.5 MB\n"
     ]
    }
   ],
   "source": [
    "train.info()"
   ]
  },
  {
   "cell_type": "code",
   "execution_count": 5,
   "metadata": {},
   "outputs": [],
   "source": [
    "data_type = train.iloc[:,500:530].dtypes"
   ]
  },
  {
   "cell_type": "code",
   "execution_count": 6,
   "metadata": {},
   "outputs": [
    {
     "data": {
      "text/plain": [
       "<bound method NDFrame.describe of        WAP001  WAP002  WAP003  WAP004  WAP005  WAP006  WAP007  WAP008  WAP009  \\\n",
       "0         100     100     100     100     100     100     100     100     100   \n",
       "1         100     100     100     100     100     100     100     100     100   \n",
       "2         100     100     100     100     100     100     100     -97     100   \n",
       "3         100     100     100     100     100     100     100     100     100   \n",
       "4         100     100     100     100     100     100     100     100     100   \n",
       "...       ...     ...     ...     ...     ...     ...     ...     ...     ...   \n",
       "19932     100     100     100     100     100     100     100     100     100   \n",
       "19933     100     100     100     100     100     100     100     100     100   \n",
       "19934     100     100     100     100     100     100     100     100     100   \n",
       "19935     100     100     100     100     100     100     100     100     100   \n",
       "19936     100     100     100     100     100     100     100     100     100   \n",
       "\n",
       "       WAP010  ...  WAP520  LONGITUDE      LATITUDE  FLOOR  BUILDINGID  \\\n",
       "0         100  ...     100 -7541.2643  4.864921e+06      2           1   \n",
       "1         100  ...     100 -7536.6212  4.864934e+06      2           1   \n",
       "2         100  ...     100 -7519.1524  4.864950e+06      2           1   \n",
       "3         100  ...     100 -7524.5704  4.864934e+06      2           1   \n",
       "4         100  ...     100 -7632.1436  4.864982e+06      0           0   \n",
       "...       ...  ...     ...        ...           ...    ...         ...   \n",
       "19932     100  ...     100 -7485.4686  4.864875e+06      3           1   \n",
       "19933     100  ...     100 -7390.6206  4.864836e+06      1           2   \n",
       "19934     100  ...     100 -7516.8415  4.864889e+06      3           1   \n",
       "19935     100  ...     100 -7537.3219  4.864896e+06      3           1   \n",
       "19936     100  ...     100 -7536.1658  4.864898e+06      3           1   \n",
       "\n",
       "       SPACEID  RELATIVEPOSITION  USERID  PHONEID   TIMESTAMP  \n",
       "0          106                 2       2       23  1371713733  \n",
       "1          106                 2       2       23  1371713691  \n",
       "2          103                 2       2       23  1371714095  \n",
       "3          102                 2       2       23  1371713807  \n",
       "4          122                 2      11       13  1369909710  \n",
       "...        ...               ...     ...      ...         ...  \n",
       "19932        1                 2      18       10  1371710683  \n",
       "19933      140                 2      18       10  1371710402  \n",
       "19934       13                 2      18       10  1371710921  \n",
       "19935      113                 2      18       10  1371711049  \n",
       "19936      112                 2      18       10  1371711025  \n",
       "\n",
       "[19937 rows x 529 columns]>"
      ]
     },
     "execution_count": 6,
     "metadata": {},
     "output_type": "execute_result"
    }
   ],
   "source": [
    "train.describe"
   ]
  },
  {
   "cell_type": "markdown",
   "metadata": {},
   "source": [
    "#### Check the if the column names train is equal than validation"
   ]
  },
  {
   "cell_type": "code",
   "execution_count": 7,
   "metadata": {},
   "outputs": [
    {
     "data": {
      "text/plain": [
       "529"
      ]
     },
     "execution_count": 7,
     "metadata": {},
     "output_type": "execute_result"
    }
   ],
   "source": [
    "# count the number of true statments\n",
    "sum(train.columns == valid.columns)"
   ]
  },
  {
   "cell_type": "code",
   "execution_count": 8,
   "metadata": {},
   "outputs": [
    {
     "data": {
      "text/plain": [
       "True"
      ]
     },
     "execution_count": 8,
     "metadata": {},
     "output_type": "execute_result"
    }
   ],
   "source": [
    "# check if the number of columns is the same on validation than training\n",
    "len(valid.columns) == len(train.columns)"
   ]
  },
  {
   "cell_type": "code",
   "execution_count": 9,
   "metadata": {},
   "outputs": [],
   "source": [
    "# store the column names into a variable\n",
    "col_names = []\n",
    "for col in train.columns:\n",
    "    col_names.append(col)"
   ]
  },
  {
   "cell_type": "code",
   "execution_count": 10,
   "metadata": {},
   "outputs": [],
   "source": [
    "# define names for waps\n",
    "wap_names = col_names[:520]"
   ]
  },
  {
   "cell_type": "code",
   "execution_count": 11,
   "metadata": {},
   "outputs": [
    {
     "data": {
      "text/plain": [
       "0        False\n",
       "1        False\n",
       "2        False\n",
       "3        False\n",
       "4        False\n",
       "         ...  \n",
       "19932    False\n",
       "19933     True\n",
       "19934    False\n",
       "19935    False\n",
       "19936    False\n",
       "Name: LONGITUDE, Length: 19937, dtype: bool"
      ]
     },
     "execution_count": 11,
     "metadata": {},
     "output_type": "execute_result"
    }
   ],
   "source": [
    "# filter into the dataframe\n",
    "train['LONGITUDE'] > -7485.4686"
   ]
  },
  {
   "cell_type": "markdown",
   "metadata": {},
   "source": [
    "Steps to do: \n",
    "\n",
    "* Transform the data types in the right format"
   ]
  },
  {
   "cell_type": "markdown",
   "metadata": {},
   "source": [
    "## Create a model to predict building"
   ]
  },
  {
   "cell_type": "code",
   "execution_count": 12,
   "metadata": {},
   "outputs": [],
   "source": [
    "# subset teh waps and building\n",
    "df_building = train[wap_names + ['BUILDINGID', 'LATITUDE', 'LONGITUDE']].copy()"
   ]
  },
  {
   "cell_type": "code",
   "execution_count": 13,
   "metadata": {},
   "outputs": [
    {
     "data": {
      "text/html": [
       "<div>\n",
       "<style scoped>\n",
       "    .dataframe tbody tr th:only-of-type {\n",
       "        vertical-align: middle;\n",
       "    }\n",
       "\n",
       "    .dataframe tbody tr th {\n",
       "        vertical-align: top;\n",
       "    }\n",
       "\n",
       "    .dataframe thead th {\n",
       "        text-align: right;\n",
       "    }\n",
       "</style>\n",
       "<table border=\"1\" class=\"dataframe\">\n",
       "  <thead>\n",
       "    <tr style=\"text-align: right;\">\n",
       "      <th></th>\n",
       "      <th>WAP001</th>\n",
       "      <th>WAP002</th>\n",
       "      <th>WAP003</th>\n",
       "      <th>WAP004</th>\n",
       "      <th>WAP005</th>\n",
       "      <th>WAP006</th>\n",
       "      <th>WAP007</th>\n",
       "      <th>WAP008</th>\n",
       "      <th>WAP009</th>\n",
       "      <th>WAP010</th>\n",
       "      <th>...</th>\n",
       "      <th>WAP514</th>\n",
       "      <th>WAP515</th>\n",
       "      <th>WAP516</th>\n",
       "      <th>WAP517</th>\n",
       "      <th>WAP518</th>\n",
       "      <th>WAP519</th>\n",
       "      <th>WAP520</th>\n",
       "      <th>BUILDINGID</th>\n",
       "      <th>LATITUDE</th>\n",
       "      <th>LONGITUDE</th>\n",
       "    </tr>\n",
       "  </thead>\n",
       "  <tbody>\n",
       "    <tr>\n",
       "      <th>0</th>\n",
       "      <td>100</td>\n",
       "      <td>100</td>\n",
       "      <td>100</td>\n",
       "      <td>100</td>\n",
       "      <td>100</td>\n",
       "      <td>100</td>\n",
       "      <td>100</td>\n",
       "      <td>100</td>\n",
       "      <td>100</td>\n",
       "      <td>100</td>\n",
       "      <td>...</td>\n",
       "      <td>100</td>\n",
       "      <td>100</td>\n",
       "      <td>100</td>\n",
       "      <td>100</td>\n",
       "      <td>100</td>\n",
       "      <td>100</td>\n",
       "      <td>100</td>\n",
       "      <td>1</td>\n",
       "      <td>4.864921e+06</td>\n",
       "      <td>-7541.2643</td>\n",
       "    </tr>\n",
       "    <tr>\n",
       "      <th>1</th>\n",
       "      <td>100</td>\n",
       "      <td>100</td>\n",
       "      <td>100</td>\n",
       "      <td>100</td>\n",
       "      <td>100</td>\n",
       "      <td>100</td>\n",
       "      <td>100</td>\n",
       "      <td>100</td>\n",
       "      <td>100</td>\n",
       "      <td>100</td>\n",
       "      <td>...</td>\n",
       "      <td>100</td>\n",
       "      <td>100</td>\n",
       "      <td>100</td>\n",
       "      <td>100</td>\n",
       "      <td>100</td>\n",
       "      <td>100</td>\n",
       "      <td>100</td>\n",
       "      <td>1</td>\n",
       "      <td>4.864934e+06</td>\n",
       "      <td>-7536.6212</td>\n",
       "    </tr>\n",
       "    <tr>\n",
       "      <th>2</th>\n",
       "      <td>100</td>\n",
       "      <td>100</td>\n",
       "      <td>100</td>\n",
       "      <td>100</td>\n",
       "      <td>100</td>\n",
       "      <td>100</td>\n",
       "      <td>100</td>\n",
       "      <td>-97</td>\n",
       "      <td>100</td>\n",
       "      <td>100</td>\n",
       "      <td>...</td>\n",
       "      <td>100</td>\n",
       "      <td>100</td>\n",
       "      <td>100</td>\n",
       "      <td>100</td>\n",
       "      <td>100</td>\n",
       "      <td>100</td>\n",
       "      <td>100</td>\n",
       "      <td>1</td>\n",
       "      <td>4.864950e+06</td>\n",
       "      <td>-7519.1524</td>\n",
       "    </tr>\n",
       "    <tr>\n",
       "      <th>3</th>\n",
       "      <td>100</td>\n",
       "      <td>100</td>\n",
       "      <td>100</td>\n",
       "      <td>100</td>\n",
       "      <td>100</td>\n",
       "      <td>100</td>\n",
       "      <td>100</td>\n",
       "      <td>100</td>\n",
       "      <td>100</td>\n",
       "      <td>100</td>\n",
       "      <td>...</td>\n",
       "      <td>100</td>\n",
       "      <td>100</td>\n",
       "      <td>100</td>\n",
       "      <td>100</td>\n",
       "      <td>100</td>\n",
       "      <td>100</td>\n",
       "      <td>100</td>\n",
       "      <td>1</td>\n",
       "      <td>4.864934e+06</td>\n",
       "      <td>-7524.5704</td>\n",
       "    </tr>\n",
       "    <tr>\n",
       "      <th>4</th>\n",
       "      <td>100</td>\n",
       "      <td>100</td>\n",
       "      <td>100</td>\n",
       "      <td>100</td>\n",
       "      <td>100</td>\n",
       "      <td>100</td>\n",
       "      <td>100</td>\n",
       "      <td>100</td>\n",
       "      <td>100</td>\n",
       "      <td>100</td>\n",
       "      <td>...</td>\n",
       "      <td>100</td>\n",
       "      <td>100</td>\n",
       "      <td>100</td>\n",
       "      <td>100</td>\n",
       "      <td>100</td>\n",
       "      <td>100</td>\n",
       "      <td>100</td>\n",
       "      <td>0</td>\n",
       "      <td>4.864982e+06</td>\n",
       "      <td>-7632.1436</td>\n",
       "    </tr>\n",
       "    <tr>\n",
       "      <th>...</th>\n",
       "      <td>...</td>\n",
       "      <td>...</td>\n",
       "      <td>...</td>\n",
       "      <td>...</td>\n",
       "      <td>...</td>\n",
       "      <td>...</td>\n",
       "      <td>...</td>\n",
       "      <td>...</td>\n",
       "      <td>...</td>\n",
       "      <td>...</td>\n",
       "      <td>...</td>\n",
       "      <td>...</td>\n",
       "      <td>...</td>\n",
       "      <td>...</td>\n",
       "      <td>...</td>\n",
       "      <td>...</td>\n",
       "      <td>...</td>\n",
       "      <td>...</td>\n",
       "      <td>...</td>\n",
       "      <td>...</td>\n",
       "      <td>...</td>\n",
       "    </tr>\n",
       "    <tr>\n",
       "      <th>19932</th>\n",
       "      <td>100</td>\n",
       "      <td>100</td>\n",
       "      <td>100</td>\n",
       "      <td>100</td>\n",
       "      <td>100</td>\n",
       "      <td>100</td>\n",
       "      <td>100</td>\n",
       "      <td>100</td>\n",
       "      <td>100</td>\n",
       "      <td>100</td>\n",
       "      <td>...</td>\n",
       "      <td>100</td>\n",
       "      <td>100</td>\n",
       "      <td>100</td>\n",
       "      <td>100</td>\n",
       "      <td>100</td>\n",
       "      <td>100</td>\n",
       "      <td>100</td>\n",
       "      <td>1</td>\n",
       "      <td>4.864875e+06</td>\n",
       "      <td>-7485.4686</td>\n",
       "    </tr>\n",
       "    <tr>\n",
       "      <th>19933</th>\n",
       "      <td>100</td>\n",
       "      <td>100</td>\n",
       "      <td>100</td>\n",
       "      <td>100</td>\n",
       "      <td>100</td>\n",
       "      <td>100</td>\n",
       "      <td>100</td>\n",
       "      <td>100</td>\n",
       "      <td>100</td>\n",
       "      <td>100</td>\n",
       "      <td>...</td>\n",
       "      <td>100</td>\n",
       "      <td>100</td>\n",
       "      <td>100</td>\n",
       "      <td>100</td>\n",
       "      <td>100</td>\n",
       "      <td>100</td>\n",
       "      <td>100</td>\n",
       "      <td>2</td>\n",
       "      <td>4.864836e+06</td>\n",
       "      <td>-7390.6206</td>\n",
       "    </tr>\n",
       "    <tr>\n",
       "      <th>19934</th>\n",
       "      <td>100</td>\n",
       "      <td>100</td>\n",
       "      <td>100</td>\n",
       "      <td>100</td>\n",
       "      <td>100</td>\n",
       "      <td>100</td>\n",
       "      <td>100</td>\n",
       "      <td>100</td>\n",
       "      <td>100</td>\n",
       "      <td>100</td>\n",
       "      <td>...</td>\n",
       "      <td>100</td>\n",
       "      <td>100</td>\n",
       "      <td>100</td>\n",
       "      <td>100</td>\n",
       "      <td>100</td>\n",
       "      <td>100</td>\n",
       "      <td>100</td>\n",
       "      <td>1</td>\n",
       "      <td>4.864889e+06</td>\n",
       "      <td>-7516.8415</td>\n",
       "    </tr>\n",
       "    <tr>\n",
       "      <th>19935</th>\n",
       "      <td>100</td>\n",
       "      <td>100</td>\n",
       "      <td>100</td>\n",
       "      <td>100</td>\n",
       "      <td>100</td>\n",
       "      <td>100</td>\n",
       "      <td>100</td>\n",
       "      <td>100</td>\n",
       "      <td>100</td>\n",
       "      <td>100</td>\n",
       "      <td>...</td>\n",
       "      <td>100</td>\n",
       "      <td>100</td>\n",
       "      <td>100</td>\n",
       "      <td>100</td>\n",
       "      <td>100</td>\n",
       "      <td>100</td>\n",
       "      <td>100</td>\n",
       "      <td>1</td>\n",
       "      <td>4.864896e+06</td>\n",
       "      <td>-7537.3219</td>\n",
       "    </tr>\n",
       "    <tr>\n",
       "      <th>19936</th>\n",
       "      <td>100</td>\n",
       "      <td>100</td>\n",
       "      <td>100</td>\n",
       "      <td>100</td>\n",
       "      <td>100</td>\n",
       "      <td>100</td>\n",
       "      <td>100</td>\n",
       "      <td>100</td>\n",
       "      <td>100</td>\n",
       "      <td>100</td>\n",
       "      <td>...</td>\n",
       "      <td>100</td>\n",
       "      <td>100</td>\n",
       "      <td>100</td>\n",
       "      <td>100</td>\n",
       "      <td>100</td>\n",
       "      <td>100</td>\n",
       "      <td>100</td>\n",
       "      <td>1</td>\n",
       "      <td>4.864898e+06</td>\n",
       "      <td>-7536.1658</td>\n",
       "    </tr>\n",
       "  </tbody>\n",
       "</table>\n",
       "<p>19937 rows × 523 columns</p>\n",
       "</div>"
      ],
      "text/plain": [
       "       WAP001  WAP002  WAP003  WAP004  WAP005  WAP006  WAP007  WAP008  WAP009  \\\n",
       "0         100     100     100     100     100     100     100     100     100   \n",
       "1         100     100     100     100     100     100     100     100     100   \n",
       "2         100     100     100     100     100     100     100     -97     100   \n",
       "3         100     100     100     100     100     100     100     100     100   \n",
       "4         100     100     100     100     100     100     100     100     100   \n",
       "...       ...     ...     ...     ...     ...     ...     ...     ...     ...   \n",
       "19932     100     100     100     100     100     100     100     100     100   \n",
       "19933     100     100     100     100     100     100     100     100     100   \n",
       "19934     100     100     100     100     100     100     100     100     100   \n",
       "19935     100     100     100     100     100     100     100     100     100   \n",
       "19936     100     100     100     100     100     100     100     100     100   \n",
       "\n",
       "       WAP010  ...  WAP514  WAP515  WAP516  WAP517  WAP518  WAP519  WAP520  \\\n",
       "0         100  ...     100     100     100     100     100     100     100   \n",
       "1         100  ...     100     100     100     100     100     100     100   \n",
       "2         100  ...     100     100     100     100     100     100     100   \n",
       "3         100  ...     100     100     100     100     100     100     100   \n",
       "4         100  ...     100     100     100     100     100     100     100   \n",
       "...       ...  ...     ...     ...     ...     ...     ...     ...     ...   \n",
       "19932     100  ...     100     100     100     100     100     100     100   \n",
       "19933     100  ...     100     100     100     100     100     100     100   \n",
       "19934     100  ...     100     100     100     100     100     100     100   \n",
       "19935     100  ...     100     100     100     100     100     100     100   \n",
       "19936     100  ...     100     100     100     100     100     100     100   \n",
       "\n",
       "       BUILDINGID      LATITUDE  LONGITUDE  \n",
       "0               1  4.864921e+06 -7541.2643  \n",
       "1               1  4.864934e+06 -7536.6212  \n",
       "2               1  4.864950e+06 -7519.1524  \n",
       "3               1  4.864934e+06 -7524.5704  \n",
       "4               0  4.864982e+06 -7632.1436  \n",
       "...           ...           ...        ...  \n",
       "19932           1  4.864875e+06 -7485.4686  \n",
       "19933           2  4.864836e+06 -7390.6206  \n",
       "19934           1  4.864889e+06 -7516.8415  \n",
       "19935           1  4.864896e+06 -7537.3219  \n",
       "19936           1  4.864898e+06 -7536.1658  \n",
       "\n",
       "[19937 rows x 523 columns]"
      ]
     },
     "execution_count": 13,
     "metadata": {},
     "output_type": "execute_result"
    }
   ],
   "source": [
    "df_building"
   ]
  },
  {
   "cell_type": "code",
   "execution_count": 14,
   "metadata": {},
   "outputs": [
    {
     "data": {
      "text/html": [
       "<div>\n",
       "<style scoped>\n",
       "    .dataframe tbody tr th:only-of-type {\n",
       "        vertical-align: middle;\n",
       "    }\n",
       "\n",
       "    .dataframe tbody tr th {\n",
       "        vertical-align: top;\n",
       "    }\n",
       "\n",
       "    .dataframe thead th {\n",
       "        text-align: right;\n",
       "    }\n",
       "</style>\n",
       "<table border=\"1\" class=\"dataframe\">\n",
       "  <thead>\n",
       "    <tr style=\"text-align: right;\">\n",
       "      <th></th>\n",
       "      <th>BUILDINGID</th>\n",
       "      <th>counts</th>\n",
       "    </tr>\n",
       "  </thead>\n",
       "  <tbody>\n",
       "    <tr>\n",
       "      <th>0</th>\n",
       "      <td>0</td>\n",
       "      <td>5249</td>\n",
       "    </tr>\n",
       "    <tr>\n",
       "      <th>1</th>\n",
       "      <td>1</td>\n",
       "      <td>5196</td>\n",
       "    </tr>\n",
       "    <tr>\n",
       "      <th>2</th>\n",
       "      <td>2</td>\n",
       "      <td>9492</td>\n",
       "    </tr>\n",
       "  </tbody>\n",
       "</table>\n",
       "</div>"
      ],
      "text/plain": [
       "   BUILDINGID  counts\n",
       "0           0    5249\n",
       "1           1    5196\n",
       "2           2    9492"
      ]
     },
     "execution_count": 14,
     "metadata": {},
     "output_type": "execute_result"
    }
   ],
   "source": [
    "# create a classification model\n",
    "# 1. We have to be sure there is an homogenity in the data\n",
    "df_building.groupby('BUILDINGID').size().reset_index(name='counts')\n",
    "# we can already see we have a lot more of information on the building 2 (bias)"
   ]
  },
  {
   "cell_type": "code",
   "execution_count": 15,
   "metadata": {},
   "outputs": [
    {
     "data": {
      "text/plain": [
       "count    9492.0\n",
       "mean        2.0\n",
       "std         0.0\n",
       "min         2.0\n",
       "25%         2.0\n",
       "50%         2.0\n",
       "75%         2.0\n",
       "max         2.0\n",
       "Name: BUILDINGID, dtype: float64"
      ]
     },
     "execution_count": 15,
     "metadata": {},
     "output_type": "execute_result"
    }
   ],
   "source": [
    "# let's take 5200 random observations from the building 2\n",
    "df_building2 = df_building[df_building['BUILDINGID'] == 2].copy()\n",
    "df_building2['BUILDINGID'].describe()"
   ]
  },
  {
   "cell_type": "code",
   "execution_count": 16,
   "metadata": {},
   "outputs": [],
   "source": [
    "df_building2_randomSample = df_building2.sample(n=5200)"
   ]
  },
  {
   "cell_type": "code",
   "execution_count": 17,
   "metadata": {},
   "outputs": [],
   "source": [
    "# extract the building 2 and add a sample into the dataframe\n",
    "df_build_ready = df_building[df_building['BUILDINGID'] != 2].append(df_building2_randomSample).copy()"
   ]
  },
  {
   "cell_type": "code",
   "execution_count": 18,
   "metadata": {},
   "outputs": [
    {
     "data": {
      "text/plain": [
       "BUILDINGID\n",
       "0    5249\n",
       "1    5196\n",
       "2    5200\n",
       "dtype: int64"
      ]
     },
     "execution_count": 18,
     "metadata": {},
     "output_type": "execute_result"
    }
   ],
   "source": [
    "# check if now we have the same amount of observations by building\n",
    "df_build_ready.groupby('BUILDINGID').size()"
   ]
  },
  {
   "cell_type": "code",
   "execution_count": 19,
   "metadata": {},
   "outputs": [],
   "source": [
    "# now I need to change the dtype from building to categorical\n",
    "df_build_ready['BUILDINGID'] = df_build_ready['BUILDINGID'].astype('category')"
   ]
  },
  {
   "cell_type": "code",
   "execution_count": 20,
   "metadata": {},
   "outputs": [],
   "source": [
    "# create a train and a test in python\n",
    "import numpy as np\n",
    "\n",
    "train_id = np.random.rand(len(df_build_ready)) < 0.8\n",
    "train_build = df_build_ready[train_id]\n",
    "test_build = df_build_ready[~train_id]"
   ]
  },
  {
   "cell_type": "code",
   "execution_count": 21,
   "metadata": {},
   "outputs": [
    {
     "data": {
      "text/plain": [
       "BUILDINGID\n",
       "0    4175\n",
       "1    4172\n",
       "2    4172\n",
       "dtype: int64"
      ]
     },
     "execution_count": 21,
     "metadata": {},
     "output_type": "execute_result"
    }
   ],
   "source": [
    "# check if the samples are balanced for each building\n",
    "train_build.groupby('BUILDINGID').size()"
   ]
  },
  {
   "cell_type": "code",
   "execution_count": 22,
   "metadata": {},
   "outputs": [],
   "source": [
    "# run the the decision tree\n",
    "from sklearn.tree import DecisionTreeClassifier"
   ]
  },
  {
   "cell_type": "code",
   "execution_count": 23,
   "metadata": {},
   "outputs": [],
   "source": [
    "tree = DecisionTreeClassifier(criterion='entropy', \n",
    "                              min_samples_split=10, # if there are lesss than 20 nodes don't devide anything (by default is 2)\n",
    "                              random_state=99, \n",
    "                              min_samples_leaf=5 # minimum number of samples to create a node\n",
    "                             )"
   ]
  },
  {
   "cell_type": "code",
   "execution_count": 24,
   "metadata": {},
   "outputs": [
    {
     "data": {
      "text/plain": [
       "DecisionTreeClassifier(ccp_alpha=0.0, class_weight=None, criterion='entropy',\n",
       "                       max_depth=None, max_features=None, max_leaf_nodes=None,\n",
       "                       min_impurity_decrease=0.0, min_impurity_split=None,\n",
       "                       min_samples_leaf=5, min_samples_split=10,\n",
       "                       min_weight_fraction_leaf=0.0, presort='deprecated',\n",
       "                       random_state=99, splitter='best')"
      ]
     },
     "execution_count": 24,
     "metadata": {},
     "output_type": "execute_result"
    }
   ],
   "source": [
    "tree.fit(X=train_build[wap_names], y=train_build['BUILDINGID'])"
   ]
  },
  {
   "cell_type": "code",
   "execution_count": 25,
   "metadata": {},
   "outputs": [],
   "source": [
    "preds = tree.predict(test_build[wap_names])"
   ]
  },
  {
   "cell_type": "code",
   "execution_count": 26,
   "metadata": {},
   "outputs": [
    {
     "data": {
      "text/html": [
       "<div>\n",
       "<style scoped>\n",
       "    .dataframe tbody tr th:only-of-type {\n",
       "        vertical-align: middle;\n",
       "    }\n",
       "\n",
       "    .dataframe tbody tr th {\n",
       "        vertical-align: top;\n",
       "    }\n",
       "\n",
       "    .dataframe thead th {\n",
       "        text-align: right;\n",
       "    }\n",
       "</style>\n",
       "<table border=\"1\" class=\"dataframe\">\n",
       "  <thead>\n",
       "    <tr style=\"text-align: right;\">\n",
       "      <th>Pred</th>\n",
       "      <th>0</th>\n",
       "      <th>1</th>\n",
       "      <th>2</th>\n",
       "    </tr>\n",
       "    <tr>\n",
       "      <th>Real</th>\n",
       "      <th></th>\n",
       "      <th></th>\n",
       "      <th></th>\n",
       "    </tr>\n",
       "  </thead>\n",
       "  <tbody>\n",
       "    <tr>\n",
       "      <th>0</th>\n",
       "      <td>1070</td>\n",
       "      <td>4</td>\n",
       "      <td>0</td>\n",
       "    </tr>\n",
       "    <tr>\n",
       "      <th>1</th>\n",
       "      <td>2</td>\n",
       "      <td>1020</td>\n",
       "      <td>2</td>\n",
       "    </tr>\n",
       "    <tr>\n",
       "      <th>2</th>\n",
       "      <td>0</td>\n",
       "      <td>9</td>\n",
       "      <td>1019</td>\n",
       "    </tr>\n",
       "  </tbody>\n",
       "</table>\n",
       "</div>"
      ],
      "text/plain": [
       "Pred     0     1     2\n",
       "Real                  \n",
       "0     1070     4     0\n",
       "1        2  1020     2\n",
       "2        0     9  1019"
      ]
     },
     "execution_count": 26,
     "metadata": {},
     "output_type": "execute_result"
    }
   ],
   "source": [
    "# check the metrics with a confusion matrix\n",
    "pd.crosstab(test_build['BUILDINGID'], preds, rownames=['Real'], colnames=['Pred'])"
   ]
  },
  {
   "cell_type": "code",
   "execution_count": 27,
   "metadata": {},
   "outputs": [
    {
     "name": "stdout",
     "output_type": "stream",
     "text": [
      "The accuracy of that model is:  0.9945617402431222\n"
     ]
    }
   ],
   "source": [
    "print(\n",
    "    \"The accuracy of that model is: \", \n",
    "    sum(\n",
    "        1 for x,y in zip(test_build['BUILDINGID'],preds) if x == y\n",
    "    ) / len(test_build['BUILDINGID'])\n",
    ")"
   ]
  },
  {
   "cell_type": "code",
   "execution_count": 28,
   "metadata": {},
   "outputs": [
    {
     "name": "stdout",
     "output_type": "stream",
     "text": [
      "              precision    recall  f1-score   support\n",
      "\n",
      "           0       1.00      1.00      1.00      1074\n",
      "           1       0.99      1.00      0.99      1024\n",
      "           2       1.00      0.99      0.99      1028\n",
      "\n",
      "    accuracy                           0.99      3126\n",
      "   macro avg       0.99      0.99      0.99      3126\n",
      "weighted avg       0.99      0.99      0.99      3126\n",
      "\n"
     ]
    }
   ],
   "source": [
    "# other way\n",
    "from sklearn.metrics import classification_report\n",
    "\n",
    "print(classification_report(y_true=test_build['BUILDINGID'], y_pred=preds))"
   ]
  },
  {
   "cell_type": "code",
   "execution_count": 29,
   "metadata": {},
   "outputs": [
    {
     "name": "stdout",
     "output_type": "stream",
     "text": [
      "The kappa of that model is:  0.9918408369014894\n"
     ]
    }
   ],
   "source": [
    "from sklearn.metrics import cohen_kappa_score\n",
    "\n",
    "print( \n",
    "    'The kappa of that model is: ',\n",
    "    cohen_kappa_score(y1 = test_build['BUILDINGID'], y2 = preds)\n",
    ")"
   ]
  },
  {
   "cell_type": "code",
   "execution_count": 30,
   "metadata": {},
   "outputs": [
    {
     "data": {
      "image/png": "[encoded data removed]",
      "text/plain": [
       "<Figure size 432x288 with 1 Axes>"
      ]
     },
     "metadata": {
      "needs_background": "light"
     },
     "output_type": "display_data"
    }
   ],
   "source": [
    "# find out variable importance\n",
    "df_var_imp = pd.DataFrame({\n",
    "    'wap_name': list(wap_names),\n",
    "    'importance': list(tree.feature_importances_)    \n",
    "})\n",
    "data_plot = df_var_imp.sort_values(by=['importance'], ascending=True).tail(20)\n",
    "\n",
    "import matplotlib.pyplot as plt\n",
    "\n",
    "plt.barh(data_plot['wap_name'], data_plot['importance'])\n",
    "plt.title('Variable importance')\n",
    "plt.rcParams['figure.figsize'] = [20, 10]\n",
    "plt.show()"
   ]
  },
  {
   "cell_type": "code",
   "execution_count": 31,
   "metadata": {},
   "outputs": [],
   "source": [
    "# let's visualize the decision tree\n",
    "from sklearn.tree import export_graphviz\n",
    "\n",
    "with open('resources/building_dtree.dot', 'w') as dotfile:\n",
    "    export_graphviz(tree, out_file=dotfile, feature_names=wap_names)\n",
    "    dotfile.close()\n",
    "    \n",
    "import os # to access our files in our operative system\n",
    "from graphviz import Source, Graph\n",
    "\n",
    "file = open('resources/building_dtree.dot', 'r')\n",
    "text = file.read()\n",
    "text_img = Source(text)"
   ]
  },
  {
   "cell_type": "code",
   "execution_count": 32,
   "metadata": {},
   "outputs": [],
   "source": [
    "# now, let's apply our model to the validation data \n",
    "val_preds = tree.predict(valid[wap_names])\n"
   ]
  },
  {
   "cell_type": "code",
   "execution_count": 33,
   "metadata": {},
   "outputs": [],
   "source": [
    "from sklearn.metrics import classification_report\n",
    "from sklearn.metrics import cohen_kappa_score\n",
    "\n",
    "def postResample_class(y_true, y_preds):\n",
    "    \"\"\"\n",
    "    Given a vector with true results and the predictions of the model, \n",
    "    returns the confusion matrix, accuracy, kappa and a report(recall and recap) as a list. \n",
    "    \"\"\"    \n",
    "    # check the metrics with a confusion matrix\n",
    "    confusion_matrix = pd.crosstab(y_true, y_preds, rownames=['Real'], colnames=['Pred'])\n",
    "    print(confusion_matrix)\n",
    "    print('')\n",
    "\n",
    "    # print the accuracy\n",
    "    accuracy = sum(1 for x,y in zip(y_preds, y_true) if x == y) / len(y_true)\n",
    "    print(\"The accuracy of that model is: \", round(accuracy,4))\n",
    "\n",
    "    # kappa \n",
    "    kappa = cohen_kappa_score(y1 = y_true, y2 = y_preds)\n",
    "    print('The kappa of that model is: ', round(kappa,4))\n",
    "    print('')\n",
    "\n",
    "    # recall and recap\n",
    "    report = classification_report(y_true=y_true, y_pred=y_preds) \n",
    "    print(report)\n",
    "    \n",
    "    results = [confusion_matrix, accuracy, kappa, report]\n",
    "    return results\n"
   ]
  },
  {
   "cell_type": "code",
   "execution_count": 34,
   "metadata": {},
   "outputs": [
    {
     "name": "stdout",
     "output_type": "stream",
     "text": [
      "Pred    0    1    2\n",
      "Real               \n",
      "0     525   11    0\n",
      "1       1  303    3\n",
      "2       0    4  264\n",
      "\n",
      "The accuracy of that model is:  0.9829\n",
      "The kappa of that model is:  0.973\n",
      "\n",
      "              precision    recall  f1-score   support\n",
      "\n",
      "           0       1.00      0.98      0.99       536\n",
      "           1       0.95      0.99      0.97       307\n",
      "           2       0.99      0.99      0.99       268\n",
      "\n",
      "    accuracy                           0.98      1111\n",
      "   macro avg       0.98      0.98      0.98      1111\n",
      "weighted avg       0.98      0.98      0.98      1111\n",
      "\n"
     ]
    }
   ],
   "source": [
    "results = postResample_class(y_true=valid['BUILDINGID'], y_preds=val_preds)"
   ]
  },
  {
   "cell_type": "code",
   "execution_count": 35,
   "metadata": {},
   "outputs": [
    {
     "name": "stdout",
     "output_type": "stream",
     "text": [
      "Pred    0    1    2\n",
      "Real               \n",
      "0     525   11    0\n",
      "1       1  303    3\n",
      "2       0    4  264\n",
      "\n",
      "The accuracy of that model is:  0.9829\n",
      "The kappa of that model is:  0.973\n",
      "\n",
      "              precision    recall  f1-score   support\n",
      "\n",
      "           0       1.00      0.98      0.99       536\n",
      "           1       0.95      0.99      0.97       307\n",
      "           2       0.99      0.99      0.99       268\n",
      "\n",
      "    accuracy                           0.98      1111\n",
      "   macro avg       0.98      0.98      0.98      1111\n",
      "weighted avg       0.98      0.98      0.98      1111\n",
      "\n"
     ]
    },
    {
     "data": {
      "image/png": "[encoded data removed]",
      "text/plain": [
       "<Figure size 1440x720 with 1 Axes>"
      ]
     },
     "metadata": {
      "needs_background": "light"
     },
     "output_type": "display_data"
    }
   ],
   "source": [
    "def plot_errors_building(df, y_true, y_pred):\n",
    "    # plot the errors on the validation\n",
    "    errors = y_true != y_pred\n",
    "    data_plot = pd.DataFrame({\n",
    "        'LONG': df['LONGITUDE'],\n",
    "        'LAT': df['LATITUDE'],\n",
    "        'err': errors\n",
    "    })\n",
    "\n",
    "    import matplotlib.pyplot as plt\n",
    "    import seaborn as sns\n",
    "\n",
    "    sns.scatterplot(x='LONG', y='LAT', hue='err', data=data_plot, \n",
    "                    palette=['lightgrey','red'], x_jitter=True, y_jitter=True)\n",
    "    plt.title('Plotting building errors')\n",
    "    plt.rcParams['figure.figsize'] = [20, 10]\n",
    "    plt.show\n",
    "\n",
    "preds = tree.predict(valid[wap_names])\n",
    "postResample_class(valid['BUILDINGID'], preds)\n",
    "plot_errors_building(valid, valid['BUILDINGID'], preds)  "
   ]
  },
  {
   "cell_type": "code",
   "execution_count": 36,
   "metadata": {},
   "outputs": [
    {
     "data": {
      "text/plain": [
       "'\\n%load_ext rpy2.ipython\\n%%R -i R_data -w 20 -h 10 --units in -r 200\\n# import df from global environment\\n# make default figure size 5 by 5 inches with 200 dpi resolution\\n\\nlibrary(ggplot2)\\n\\ndata_plot = R_data[[1]]\\n\\nggplot(data_plot, aes(x=LONG, y=LAT, col=err)) +\\n    geom_point() +\\n    geom_jitter() +\\n    scale_color_manual(values=c(\"grey80\",\"red\"))+\\n    theme_bw()\\n'"
      ]
     },
     "execution_count": 36,
     "metadata": {},
     "output_type": "execute_result"
    }
   ],
   "source": [
    "\"\"\"\n",
    "%load_ext rpy2.ipython\n",
    "%%R -i R_data -w 20 -h 10 --units in -r 200\n",
    "# import df from global environment\n",
    "# make default figure size 5 by 5 inches with 200 dpi resolution\n",
    "\n",
    "library(ggplot2)\n",
    "\n",
    "data_plot = R_data[[1]]\n",
    "\n",
    "ggplot(data_plot, aes(x=LONG, y=LAT, col=err)) +\n",
    "    geom_point() +\n",
    "    geom_jitter() +\n",
    "    scale_color_manual(values=c(\"grey80\",\"red\"))+\n",
    "    theme_bw()\n",
    "\"\"\""
   ]
  },
  {
   "cell_type": "code",
   "execution_count": 37,
   "metadata": {},
   "outputs": [],
   "source": [
    "# time to try a random forest as a classification\n",
    "from sklearn.ensemble import RandomForestClassifier"
   ]
  },
  {
   "cell_type": "code",
   "execution_count": 38,
   "metadata": {},
   "outputs": [],
   "source": [
    "forest = RandomForestClassifier(n_jobs=2, \n",
    "                                oob_score=True, \n",
    "                                n_estimators=10)"
   ]
  },
  {
   "cell_type": "code",
   "execution_count": 39,
   "metadata": {},
   "outputs": [
    {
     "name": "stderr",
     "output_type": "stream",
     "text": [
      "/home/joan/.local/lib/python3.6/site-packages/sklearn/ensemble/_forest.py:523: UserWarning: Some inputs do not have OOB scores. This probably means too few trees were used to compute any reliable oob estimates.\n",
      "  warn(\"Some inputs do not have OOB scores. \"\n",
      "/home/joan/.local/lib/python3.6/site-packages/sklearn/ensemble/_forest.py:528: RuntimeWarning: invalid value encountered in true_divide\n",
      "  predictions[k].sum(axis=1)[:, np.newaxis])\n"
     ]
    },
    {
     "data": {
      "text/plain": [
       "RandomForestClassifier(bootstrap=True, ccp_alpha=0.0, class_weight=None,\n",
       "                       criterion='gini', max_depth=None, max_features='auto',\n",
       "                       max_leaf_nodes=None, max_samples=None,\n",
       "                       min_impurity_decrease=0.0, min_impurity_split=None,\n",
       "                       min_samples_leaf=1, min_samples_split=2,\n",
       "                       min_weight_fraction_leaf=0.0, n_estimators=10, n_jobs=2,\n",
       "                       oob_score=True, random_state=None, verbose=0,\n",
       "                       warm_start=False)"
      ]
     },
     "execution_count": 39,
     "metadata": {},
     "output_type": "execute_result"
    }
   ],
   "source": [
    "forest.fit(X=train_build[wap_names], y=train_build['BUILDINGID'])"
   ]
  },
  {
   "cell_type": "code",
   "execution_count": 40,
   "metadata": {
    "scrolled": true
   },
   "outputs": [
    {
     "data": {
      "text/plain": [
       "array([[0.        , 1.        , 0.        ],\n",
       "       [       nan,        nan,        nan],\n",
       "       [0.        , 0.55854482, 0.44145518],\n",
       "       ...,\n",
       "       [0.        , 0.        , 1.        ],\n",
       "       [0.        , 0.        , 1.        ],\n",
       "       [0.        , 0.        , 1.        ]])"
      ]
     },
     "execution_count": 40,
     "metadata": {},
     "output_type": "execute_result"
    }
   ],
   "source": [
    "# for each observation, random forest tell us which is the probability will fall \n",
    "# into one place or another\n",
    "\n",
    "forest.oob_decision_function_"
   ]
  },
  {
   "cell_type": "code",
   "execution_count": 41,
   "metadata": {},
   "outputs": [
    {
     "data": {
      "text/plain": [
       "0.9897755411774103"
      ]
     },
     "execution_count": 41,
     "metadata": {},
     "output_type": "execute_result"
    }
   ],
   "source": [
    "# accuracy of the tree\n",
    "forest.oob_score_"
   ]
  },
  {
   "cell_type": "code",
   "execution_count": 42,
   "metadata": {},
   "outputs": [],
   "source": [
    "preds = forest.predict(test_build[wap_names])"
   ]
  },
  {
   "cell_type": "code",
   "execution_count": 43,
   "metadata": {},
   "outputs": [
    {
     "name": "stdout",
     "output_type": "stream",
     "text": [
      "Pred     0     1     2\n",
      "Real                  \n",
      "0     1074     0     0\n",
      "1        0  1024     0\n",
      "2        0     6  1022\n",
      "\n",
      "The accuracy of that model is:  0.9981\n",
      "The kappa of that model is:  0.9971\n",
      "\n",
      "              precision    recall  f1-score   support\n",
      "\n",
      "           0       1.00      1.00      1.00      1074\n",
      "           1       0.99      1.00      1.00      1024\n",
      "           2       1.00      0.99      1.00      1028\n",
      "\n",
      "    accuracy                           1.00      3126\n",
      "   macro avg       1.00      1.00      1.00      3126\n",
      "weighted avg       1.00      1.00      1.00      3126\n",
      "\n"
     ]
    }
   ],
   "source": [
    "results = postResample_class(test_build['BUILDINGID'], preds)"
   ]
  },
  {
   "cell_type": "code",
   "execution_count": 44,
   "metadata": {},
   "outputs": [
    {
     "data": {
      "image/png": "[encoded data removed]",
      "text/plain": [
       "<Figure size 1440x720 with 1 Axes>"
      ]
     },
     "metadata": {
      "needs_background": "light"
     },
     "output_type": "display_data"
    }
   ],
   "source": [
    "plot_errors_building(test_build, test_build['BUILDINGID'], preds)  "
   ]
  },
  {
   "cell_type": "code",
   "execution_count": 45,
   "metadata": {},
   "outputs": [
    {
     "name": "stdout",
     "output_type": "stream",
     "text": [
      "Pred    0    1    2\n",
      "Real               \n",
      "0     536    0    0\n",
      "1       1  306    0\n",
      "2       0    0  268\n",
      "\n",
      "The accuracy of that model is:  0.9991\n",
      "The kappa of that model is:  0.9986\n",
      "\n",
      "              precision    recall  f1-score   support\n",
      "\n",
      "           0       1.00      1.00      1.00       536\n",
      "           1       1.00      1.00      1.00       307\n",
      "           2       1.00      1.00      1.00       268\n",
      "\n",
      "    accuracy                           1.00      1111\n",
      "   macro avg       1.00      1.00      1.00      1111\n",
      "weighted avg       1.00      1.00      1.00      1111\n",
      "\n"
     ]
    },
    {
     "data": {
      "image/png": "[encoded data removed]",
      "text/plain": [
       "<Figure size 1440x720 with 1 Axes>"
      ]
     },
     "metadata": {
      "needs_background": "light"
     },
     "output_type": "display_data"
    }
   ],
   "source": [
    "preds = forest.predict(valid[wap_names])\n",
    "results = postResample_class(valid['BUILDINGID'], preds)\n",
    "plot_errors_building(valid, valid['BUILDINGID'], preds)  "
   ]
  },
  {
   "cell_type": "markdown",
   "metadata": {},
   "source": [
    "### Pre processing building\n",
    "\n",
    "* Actions done, undersampling by random values of building 2. Why does it have the double of observations? Unique values?"
   ]
  },
  {
   "cell_type": "code",
   "execution_count": 51,
   "metadata": {},
   "outputs": [],
   "source": [
    "tr_build_2 = train[train['BUILDINGID'] == 2] # 9492 observations. Do I have duplicates values?"
   ]
  },
  {
   "cell_type": "code",
   "execution_count": 52,
   "metadata": {},
   "outputs": [],
   "source": [
    "import seaborn as sns\n",
    "import matplotlib.pyplot as plt"
   ]
  },
  {
   "cell_type": "code",
   "execution_count": 63,
   "metadata": {},
   "outputs": [
    {
     "data": {
      "text/plain": [
       "FLOOR\n",
       "0    1942\n",
       "1    2162\n",
       "2    1577\n",
       "3    2709\n",
       "4    1102\n",
       "dtype: int64"
      ]
     },
     "execution_count": 63,
     "metadata": {},
     "output_type": "execute_result"
    }
   ],
   "source": [
    "# the floor number 3 has almos the double of the samples as the other ones\n",
    "tr_build_2.drop(wap_names, axis=1).groupby('FLOOR').size()"
   ]
  },
  {
   "cell_type": "code",
   "execution_count": 155,
   "metadata": {},
   "outputs": [
    {
     "data": {
      "text/plain": [
       "<seaborn.axisgrid.FacetGrid at 0x7f9c8863aeb8>"
      ]
     },
     "execution_count": 155,
     "metadata": {},
     "output_type": "execute_result"
    },
    {
     "data": {
      "image/png": "[encoded data removed]",
      "text/plain": [
       "<Figure size 648x432 with 5 Axes>"
      ]
     },
     "metadata": {
      "needs_background": "light"
     },
     "output_type": "display_data"
    }
   ],
   "source": [
    "temp_df = tr_build_2[['LONGITUDE','LATITUDE','FLOOR']]\n",
    "g = sns.FacetGrid(temp_df,col='FLOOR',col_wrap=3)\n",
    "g.map(sns.scatterplot, 'LONGITUDE','LATITUDE')"
   ]
  }
 ],
 "metadata": {
  "kernelspec": {
   "display_name": "Python 3",
   "language": "python",
   "name": "python3"
  },
  "language_info": {
   "codemirror_mode": {
    "name": "ipython",
    "version": 3
   },
   "file_extension": ".py",
   "mimetype": "text/x-python",
   "name": "python",
   "nbconvert_exporter": "python",
   "pygments_lexer": "ipython3",
   "version": "3.6.9"
  }
 },
 "nbformat": 4,
 "nbformat_minor": 4
}
